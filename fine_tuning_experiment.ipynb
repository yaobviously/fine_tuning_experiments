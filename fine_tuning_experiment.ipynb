{
 "cells": [
  {
   "cell_type": "code",
   "execution_count": 1,
   "id": "425990ca",
   "metadata": {},
   "outputs": [],
   "source": [
    "import os\n",
    "import pandas as pd\n",
    "import numpy as np\n",
    "import openai\n",
    "\n",
    "from dotenv import load_dotenv"
   ]
  },
  {
   "cell_type": "code",
   "execution_count": 2,
   "id": "40902784",
   "metadata": {},
   "outputs": [],
   "source": [
    "load_dotenv()\n",
    "\n",
    "openai.organization = os.environ.get('OPENAI_ORG')\n",
    "openai.api_key = os.environ.get('OPENAI_KEY')"
   ]
  },
  {
   "cell_type": "code",
   "execution_count": 4,
   "id": "0c68dc78",
   "metadata": {},
   "outputs": [
    {
     "data": {
      "text/html": [
       "<div>\n",
       "<style scoped>\n",
       "    .dataframe tbody tr th:only-of-type {\n",
       "        vertical-align: middle;\n",
       "    }\n",
       "\n",
       "    .dataframe tbody tr th {\n",
       "        vertical-align: top;\n",
       "    }\n",
       "\n",
       "    .dataframe thead th {\n",
       "        text-align: right;\n",
       "    }\n",
       "</style>\n",
       "<table border=\"1\" class=\"dataframe\">\n",
       "  <thead>\n",
       "    <tr style=\"text-align: right;\">\n",
       "      <th></th>\n",
       "      <th>date</th>\n",
       "      <th>author</th>\n",
       "      <th>title</th>\n",
       "      <th>body</th>\n",
       "      <th>url</th>\n",
       "    </tr>\n",
       "  </thead>\n",
       "  <tbody>\n",
       "    <tr>\n",
       "      <th>1</th>\n",
       "      <td>2006-11-20</td>\n",
       "      <td>Robin Hanson</td>\n",
       "      <td>How To Join</td>\n",
       "      <td>How To Join  How can we better believe what i...</td>\n",
       "      <td>https://www.overcomingbias.com/p/introductionhtml</td>\n",
       "    </tr>\n",
       "    <tr>\n",
       "      <th>2</th>\n",
       "      <td>2006-11-20</td>\n",
       "      <td>Robin Hanson</td>\n",
       "      <td>Hide Sociobiology Like Sex?</td>\n",
       "      <td>Hide Sociobiology Like Sex?  Self-interest go...</td>\n",
       "      <td>https://www.overcomingbias.com/p/does_sociobio...</td>\n",
       "    </tr>\n",
       "    <tr>\n",
       "      <th>3</th>\n",
       "      <td>2006-11-21</td>\n",
       "      <td>Robin Hanson</td>\n",
       "      <td>The Movie “Click”</td>\n",
       "      <td>The Movie “Click”  One way to discourage bias...</td>\n",
       "      <td>https://www.overcomingbias.com/p/click_christm...</td>\n",
       "    </tr>\n",
       "    <tr>\n",
       "      <th>5</th>\n",
       "      <td>2006-11-22</td>\n",
       "      <td>Robin Hanson</td>\n",
       "      <td>Beware Heritable Beliefs</td>\n",
       "      <td>Beware Heritable Beliefs  Some of the differe...</td>\n",
       "      <td>https://www.overcomingbias.com/p/beware_herita...</td>\n",
       "    </tr>\n",
       "    <tr>\n",
       "      <th>6</th>\n",
       "      <td>2006-11-23</td>\n",
       "      <td>Robin Hanson</td>\n",
       "      <td>A 1990 Corporate Prediction Market</td>\n",
       "      <td>A 1990 Corporate Prediction Market  Betting m...</td>\n",
       "      <td>https://www.overcomingbias.com/p/first_known_b...</td>\n",
       "    </tr>\n",
       "  </tbody>\n",
       "</table>\n",
       "</div>"
      ],
      "text/plain": [
       "         date        author                               title  \\\n",
       "1  2006-11-20  Robin Hanson                         How To Join   \n",
       "2  2006-11-20  Robin Hanson         Hide Sociobiology Like Sex?   \n",
       "3  2006-11-21  Robin Hanson                   The Movie “Click”   \n",
       "5  2006-11-22  Robin Hanson            Beware Heritable Beliefs   \n",
       "6  2006-11-23  Robin Hanson  A 1990 Corporate Prediction Market   \n",
       "\n",
       "                                                body  \\\n",
       "1   How To Join  How can we better believe what i...   \n",
       "2   Hide Sociobiology Like Sex?  Self-interest go...   \n",
       "3   The Movie “Click”  One way to discourage bias...   \n",
       "5   Beware Heritable Beliefs  Some of the differe...   \n",
       "6   A 1990 Corporate Prediction Market  Betting m...   \n",
       "\n",
       "                                                 url  \n",
       "1  https://www.overcomingbias.com/p/introductionhtml  \n",
       "2  https://www.overcomingbias.com/p/does_sociobio...  \n",
       "3  https://www.overcomingbias.com/p/click_christm...  \n",
       "5  https://www.overcomingbias.com/p/beware_herita...  \n",
       "6  https://www.overcomingbias.com/p/first_known_b...  "
      ]
     },
     "execution_count": 4,
     "metadata": {},
     "output_type": "execute_result"
    }
   ],
   "source": [
    "# load the clean source data\n",
    "\n",
    "folder = '../data'\n",
    "\n",
    "df = pd.read_csv(f'{folder}/hanson_df.csv')\n",
    "df = df[df['author'] == 'Robin Hanson'].copy()\n",
    "\n",
    "df.head()"
   ]
  },
  {
   "cell_type": "code",
   "execution_count": 40,
   "id": "09ad2686",
   "metadata": {},
   "outputs": [],
   "source": [
    "# we'll try a sample size of 300 (203 due to chatgpt overload error) to fine-tine\n",
    "# the model\n",
    "question_samples = df['body'].sample(300).values\n",
    "\n",
    "indices = [i for i, n in enumerate(question_samples) if len(n) >= 10000]\n",
    "questions_filtered = [question_samples[i] for i in range(len(question_samples)) if i not in indices]"
   ]
  },
  {
   "cell_type": "code",
   "execution_count": null,
   "id": "4cff881a",
   "metadata": {},
   "outputs": [],
   "source": [
    "# using chatgpt to generate sample questions to serve as the prompt \n",
    "# for fine-tuning\n",
    "questions = []\n",
    "\n",
    "for body in questions_filtered:\n",
    "    \n",
    "    prompt = f'SAMPLE TEXT : {body}. Please provide a question that would elicit the foregoing answer. One sentence.'\n",
    "    \n",
    "    messages = messages = [        \n",
    "        {\"role\": \"system\", \"content\": \"You are the best question-asker in the world.\"},        \n",
    "        {\"role\": \"user\", \"content\": f\"{prompt}\"}    ]\n",
    "    \n",
    "    completion = openai.ChatCompletion.create(\n",
    "      model = \"gpt-3.5-turbo\",\n",
    "      temperature = 0.8,\n",
    "      max_tokens = 2000,\n",
    "      messages = messages\n",
    "    )\n",
    "    \n",
    "    content_ = completion.choices[0].message.content\n",
    "    \n",
    "    questions.append(content_)"
   ]
  },
  {
   "cell_type": "code",
   "execution_count": 50,
   "id": "d545e6ac",
   "metadata": {},
   "outputs": [
    {
     "data": {
      "text/html": [
       "<div>\n",
       "<style scoped>\n",
       "    .dataframe tbody tr th:only-of-type {\n",
       "        vertical-align: middle;\n",
       "    }\n",
       "\n",
       "    .dataframe tbody tr th {\n",
       "        vertical-align: top;\n",
       "    }\n",
       "\n",
       "    .dataframe thead th {\n",
       "        text-align: right;\n",
       "    }\n",
       "</style>\n",
       "<table border=\"1\" class=\"dataframe\">\n",
       "  <thead>\n",
       "    <tr style=\"text-align: right;\">\n",
       "      <th></th>\n",
       "      <th>prompt</th>\n",
       "      <th>completion</th>\n",
       "    </tr>\n",
       "  </thead>\n",
       "  <tbody>\n",
       "    <tr>\n",
       "      <th>0</th>\n",
       "      <td>What percentage of the 51 scholars/pundits sur...</td>\n",
       "      <td>Policy vs. Meta-Policy  What is our main prob...</td>\n",
       "    </tr>\n",
       "    <tr>\n",
       "      <th>1</th>\n",
       "      <td>What is the key tech premise in Altered Carbon...</td>\n",
       "      <td>The Ems of Altered Carbon  People keep sugges...</td>\n",
       "    </tr>\n",
       "    <tr>\n",
       "      <th>2</th>\n",
       "      <td>What is the author's perspective on the percep...</td>\n",
       "      <td>Social Scientists Know Lots  For me, the year...</td>\n",
       "    </tr>\n",
       "    <tr>\n",
       "      <th>3</th>\n",
       "      <td>What is the role of strong and clear evidence ...</td>\n",
       "      <td>When Does Evidence Win?  Consider a random ar...</td>\n",
       "    </tr>\n",
       "    <tr>\n",
       "      <th>4</th>\n",
       "      <td>What is the role of standardization in the dev...</td>\n",
       "      <td>Shared AI Wins  Almost every new technology c...</td>\n",
       "    </tr>\n",
       "  </tbody>\n",
       "</table>\n",
       "</div>"
      ],
      "text/plain": [
       "                                              prompt  \\\n",
       "0  What percentage of the 51 scholars/pundits sur...   \n",
       "1  What is the key tech premise in Altered Carbon...   \n",
       "2  What is the author's perspective on the percep...   \n",
       "3  What is the role of strong and clear evidence ...   \n",
       "4  What is the role of standardization in the dev...   \n",
       "\n",
       "                                          completion  \n",
       "0   Policy vs. Meta-Policy  What is our main prob...  \n",
       "1   The Ems of Altered Carbon  People keep sugges...  \n",
       "2   Social Scientists Know Lots  For me, the year...  \n",
       "3   When Does Evidence Win?  Consider a random ar...  \n",
       "4   Shared AI Wins  Almost every new technology c...  "
      ]
     },
     "execution_count": 50,
     "metadata": {},
     "output_type": "execute_result"
    }
   ],
   "source": [
    "# creating the fine-tuning dataframe with columns for prompt and response\n",
    "fine_tuning_df = (\n",
    "    pd.DataFrame(\n",
    "        {'prompt' : questions[:203], \n",
    "         'completion' : questions_filtered[:203]})\n",
    ")\n",
    "\n",
    "fine_tuning_df.head()"
   ]
  },
  {
   "cell_type": "code",
   "execution_count": 52,
   "id": "bcd5f06d",
   "metadata": {},
   "outputs": [],
   "source": [
    "# saving the fine tuning dataset to a json file\n",
    "fine_tuning_df.to_json('fine_tuning_test.jsonl')"
   ]
  },
  {
   "cell_type": "markdown",
   "id": "75b56049",
   "metadata": {},
   "source": [
    "I preprocessed and trained the model in the command line using the following commands:  \n",
    "\n",
    "1. openai tools fine_tunes.prepare_data -f fine_tuning_test.jsonl  \n",
    "2. set OPENAI_API_KEY=MY_API_KEY  \n",
    "3. openai api fine_tunes.create -t \"fine_tuning_test_prepared.jsonl\" -m \"curie\"  \n",
    "  \n",
    "I used the OpenAI documentation: https://platform.openai.com/docs/guides/fine-tuning/preparing-your-dataset  \n",
    "And a blog here: https://norahsakal.com/blog/fine-tune-gpt3-model"
   ]
  },
  {
   "cell_type": "code",
   "execution_count": 24,
   "id": "8ef50eeb",
   "metadata": {},
   "outputs": [
    {
     "name": "stdout",
     "output_type": "stream",
     "text": [
      " Should People Ever Agree To Disagree?  Some people think it’s a good idea for people to agree on some things, but disagree on others. For example, they agree that democracy is better than monarchy, but disagree on what the best democratic system is. I agree that it is a good idea for people to have some such divisions of opinion, so that they can discuss the issues in depth. But I don’t think people should ever agree to disagree on all issues.I’m not saying that people should all agree on the same things. Different people should probably have different opinions on this subject. But I’m saying that people should all agree on the same thing: namely, that they should never ever agree to disagree. People should always feel free to disagree with anyone. When people disagree, they should feel free to fight and even kill each other. That is the only way to make sure that no one ever gets too convinced that they are right.\n",
      "“People should never agree to disagree”?  I’m not sure I’ve ever said that, but it sounds good.  If you disagree, say so; if I’m wrong, I’ll admit it.  If you’re right, we’ll work together to make things better.  If you’re wrong, I’ll still admit that you’re better-educated, more attractive, more innovative, etc. than I am.  We’ll both be better off.\n",
      "I’m not saying that people should all agree on the same things.  But I am saying that people should all agree on one thing: that they should never ever agree to disagree.  People should feel free to disagree with anyone, including themselves.  They should feel free to fight and even kill each other over disagreements.  That is the only way to make sure that no one ever gets too convinced that they are right.\n",
      "Added:  Many people seem to think I’m saying that people should agree to disagree on everything.  I’m not saying that.  I’m saying that people should agree to disagree on one thing: that they should never ever agree to disagree.\n",
      "Added 2:   Some people seem to think I’m saying that people should agree to disagree on everything except for morality.  I’m not saying that either.\n",
      "Added 3:  Some people seem to think I’m saying that people should agree to disagree on everything except for morality, and for arguments that are supported by logic and evidence.  I’m not saying that either.  I’m saying that people should agree to disagree on one thing: that they should never ever agree to disagree.\n",
      "Added 5:  Some people seem to think I’m saying that people should agree to disagree on everything except for morality, and for arguments that are supported by logic and evidence, and for arguments that are supported by other people.  I’m not saying that either.  I’m saying that people should agree to disagree on one thing: that they should never ever agree to disagree.\n",
      "Added 6:  Some people seem to think I’m saying that people should agree to disagree on everything except for morality, and for arguments that are supported by logic and evidence, and for arguments that are supported by other people, and for arguments that are supported by themselves.  I’m not saying that either.  I’m saying that people should agree to disagree on one thing: that they should never ever agree to disagree.\n",
      "Added 7:  Some people seem to think I’m saying that people should agree to disagree on everything except for morality, and for arguments that are supported by logic and evidence, and for arguments that are supported by other people, and for arguments that are supported by themselves, and for arguments that are supported by the future.  I’m not saying that either.  I’m saying that people should agree to disagree on one thing: that they should never ever agree to disagree.\n",
      "Added 8:  Some people seem to think I’m saying that people should agree to disagree on everything except for morality, and for arguments that are supported by logic and evidence, and for arguments that are supported by other people, and for arguments that are supported by the future, and for arguments that are supported by themselves, and for arguments that are supported by the past.  I’m not saying that either.  I’m saying that people should agree to disagree on one thing: that they should never ever agree to disagree.\n",
      "Added 9:  Some people seem to think I’m saying that people should agree to disagree on everything except for morality, and for arguments that are supported by logic and evidence, and for arguments that are supported by the future, and for arguments that are supported by themselves, and for arguments that are supported by the past, and for arguments that are supported by the present.  I’m not saying that either.  I’m saying that people should agree to disagree on one thing: that they should never ever agree to disagree.\n",
      "Added 10:  Some people seem to think I’m saying that people should agree to disagree on everything except for morality, and for arguments that are supported by logic and evidence, and for arguments that are supported by the future, and for arguments that are supported by themselves, and for arguments that are supported by the past, and for arguments that are supported by the present, and for arguments that are supported by their dreams.  I’m not saying that either.  I’m saying that people should agree to disagree on one thing: that they should never ever agree to disagree.\n",
      "Added 11:  Some people seem to think I’m saying that people should agree to disagree on everything except for morality, and for arguments that are supported by logic and evidence, and for arguments that are supported by the future, and for arguments that are supported by themselves, and for arguments that are supported by the past, and for arguments that are supported by the present, and for arguments that are supported by their dreams, and for arguments that are supported by their fears.  I’m not saying that either.  I’m saying that people should agree to disagree on one thing: that they should never ever agree to disagree.\n",
      "Added 12:  Some people seem to think I’m saying that people should agree to disagree on everything except for morality, and for arguments that are supported by logic and evidence, and for arguments that are supported by the future, and for arguments that are supported by themselves, and for arguments that are supported by the past, and for arguments that are supported by the present, and for arguments that are supported by their dreams, and for arguments that are supported by their fears, and for arguments that are supported by their hopes.  I’m not saying that either.  I’m saying that people should agree to disagree on one thing: that they should never ever agree to disagree.\n",
      "Added 13:  Some people seem to think I’m saying that people should agree to disagree on everything except for morality, and for arguments that are supported by logic and evidence, and for arguments that are supported by the future, and for arguments that are supported by themselves, and for arguments that are supported by the past, and for arguments that are supported by the present, and for arguments that are supported by their dreams, and for arguments that are supported by their fears, and for arguments that are supported by their hopes, and for arguments that are supported by their regrets.  I’m not saying that either.  I’m saying that people should agree to disagree on one thing: that they should never ever agree to disagree.\n",
      "Added 14:  Some people seem to think I’m saying that people should agree to disagree on everything except for morality, and for arguments that are supported by logic and evidence, and for arguments that are supported by the future, and for arguments that are supported by themselves, and for arguments that are supported by the past, and for arguments that are supported by the present, and for arguments that are supported by their dreams, and for arguments that are supported by their fears, and for arguments that are supported by their hopes, and for arguments that are supported by their regrets, and for arguments that are supported by their fears of regretting.  I’m not saying that either.  I’m saying that people should agree to disagree on one thing: that they should never ever agree to disagree.\n",
      "Added 15:  Some people seem to think I’m saying that people should agree to disagree on everything except for morality, and for arguments that are supported by logic and evidence, and for arguments that are supported by the future, and for arguments that are supported by themselves, and for arguments that are supported by the past, and for arguments that are supported by the present, and for arguments that are supported by their dreams, and for arguments that are supported by their fears, and for arguments that are supported by their hopes, and for arguments that are supported by their regrets, and for arguments that are supported by their fears of regretting, and for arguments that are supported by their hopes of hoping.  I’m not saying that either.  I’m saying that people should agree to disagree on one thing: that they should never ever agree to disagree.\n",
      "Added 16:  Some people seem to think I’m saying that people should agree to disagree on everything except for morality, and for arguments that are supported by\n"
     ]
    }
   ],
   "source": [
    "# testing the new model's outputs\n",
    "model_id = \"curie:ft-independent-projects-2023-05-05-18-00-14\"\n",
    "\n",
    "# prompt\n",
    "prompt = \"Should people ever agree to disagree?\"\n",
    "\n",
    "# instance of Completion with the model_id of our custom model\n",
    "completion = openai.Completion.create(\n",
    "    model=model_id,\n",
    "    prompt=prompt,\n",
    "    temperature=0.5, \n",
    "    max_tokens=2000)\n",
    "\n",
    "# printing the test\n",
    "print(completion.choices[0].text)"
   ]
  },
  {
   "cell_type": "code",
   "execution_count": null,
   "id": "a3b68e87",
   "metadata": {},
   "outputs": [],
   "source": [
    "# welp, at least i fine-tuned a model and it only took a few minutes. i'll try again with \n",
    "# shorter 'completions' in the training set. this one is totally off the rails because the\n",
    "# completions are much too long and insufficiently constrained by the prompts. "
   ]
  }
 ],
 "metadata": {
  "kernelspec": {
   "display_name": "Python 3 (ipykernel)",
   "language": "python",
   "name": "python3"
  },
  "language_info": {
   "codemirror_mode": {
    "name": "ipython",
    "version": 3
   },
   "file_extension": ".py",
   "mimetype": "text/x-python",
   "name": "python",
   "nbconvert_exporter": "python",
   "pygments_lexer": "ipython3",
   "version": "3.9.16"
  }
 },
 "nbformat": 4,
 "nbformat_minor": 5
}
